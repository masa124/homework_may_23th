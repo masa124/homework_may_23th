{
 "cells": [
  {
   "cell_type": "code",
   "execution_count": 1,
   "id": "9671bdb4",
   "metadata": {},
   "outputs": [],
   "source": [
    "from sympy import*"
   ]
  },
  {
   "cell_type": "code",
   "execution_count": 2,
   "id": "06bf7519",
   "metadata": {},
   "outputs": [],
   "source": [
    "import numpy as np"
   ]
  },
  {
   "cell_type": "code",
   "execution_count": 3,
   "id": "e7b1ffd6",
   "metadata": {},
   "outputs": [],
   "source": [
    "from matplotlib import pyplot as plt"
   ]
  },
  {
   "cell_type": "code",
   "execution_count": 4,
   "id": "18449abe",
   "metadata": {},
   "outputs": [],
   "source": [
    "# パラメータを設定\n",
    "n = 1 #次数"
   ]
  },
  {
   "cell_type": "code",
   "execution_count": 5,
   "id": "6eff580d",
   "metadata": {},
   "outputs": [],
   "source": [
    "x0 = 0 # 初期値"
   ]
  },
  {
   "cell_type": "code",
   "execution_count": 7,
   "id": "26e9be90",
   "metadata": {},
   "outputs": [],
   "source": [
    "#シンボルを定義\n",
    "x = Symbol('x')"
   ]
  },
  {
   "cell_type": "code",
   "execution_count": 8,
   "id": "ee69b81b",
   "metadata": {},
   "outputs": [],
   "source": [
    "#関数を定義\n",
    "f = 2 + x + sin(x) + exp(x)/10"
   ]
  },
  {
   "cell_type": "code",
   "execution_count": 10,
   "id": "95dfba7f",
   "metadata": {},
   "outputs": [],
   "source": [
    "#テイラー展開を導出\n",
    "taylor = series(f, x=x, x0=x0, n=n+1).removeO()"
   ]
  },
  {
   "cell_type": "code",
   "execution_count": 11,
   "id": "4a634718",
   "metadata": {},
   "outputs": [],
   "source": [
    "taylor_y = lambdify(x, taylor, 'numpy')"
   ]
  },
  {
   "cell_type": "code",
   "execution_count": 12,
   "id": "2f916fd9",
   "metadata": {},
   "outputs": [
    {
     "name": "stdout",
     "output_type": "stream",
     "text": [
      "テイラー展開\n"
     ]
    }
   ],
   "source": [
    "print(\"テイラー展開\")"
   ]
  },
  {
   "cell_type": "code",
   "execution_count": 13,
   "id": "33e4145a",
   "metadata": {},
   "outputs": [
    {
     "name": "stdout",
     "output_type": "stream",
     "text": [
      "21*x/10 + 21/10\n"
     ]
    }
   ],
   "source": [
    "print(taylor)"
   ]
  },
  {
   "cell_type": "code",
   "execution_count": 14,
   "id": "b28f0186",
   "metadata": {},
   "outputs": [],
   "source": [
    "#描画\n",
    "x_theory = np.arange(0.0, 10.0, 0.1)"
   ]
  },
  {
   "cell_type": "code",
   "execution_count": 15,
   "id": "660359c8",
   "metadata": {},
   "outputs": [],
   "source": [
    "y_theory = 2+x_theory+np.sin(x_theory)+np.exp(x_theory)/10"
   ]
  },
  {
   "cell_type": "code",
   "execution_count": 16,
   "id": "67a8cb0c",
   "metadata": {},
   "outputs": [
    {
     "data": {
      "text/plain": [
       "[<matplotlib.lines.Line2D at 0x1302999eac0>]"
      ]
     },
     "execution_count": 16,
     "metadata": {},
     "output_type": "execute_result"
    },
    {
     "data": {
      "image/png": "[encoded data removed]",
      "text/plain": [
       "<Figure size 432x288 with 1 Axes>"
      ]
     },
     "metadata": {
      "needs_background": "light"
     },
     "output_type": "display_data"
    }
   ],
   "source": [
    "plt.plot(x_theory, y_theory, lw=3, c=\"k\")"
   ]
  },
  {
   "cell_type": "code",
   "execution_count": 17,
   "id": "5f39d0de",
   "metadata": {},
   "outputs": [
    {
     "data": {
      "text/plain": [
       "[<matplotlib.lines.Line2D at 0x1302aa63ee0>]"
      ]
     },
     "execution_count": 17,
     "metadata": {},
     "output_type": "execute_result"
    },
    {
     "data": {
      "image/png": "[encoded data removed]",
      "text/plain": [
       "<Figure size 432x288 with 1 Axes>"
      ]
     },
     "metadata": {
      "needs_background": "light"
     },
     "output_type": "display_data"
    }
   ],
   "source": [
    "plt.plot(x_theory, taylor_y(x_theory),c=\"b\")"
   ]
  },
  {
   "cell_type": "code",
   "execution_count": 18,
   "id": "be9301c6",
   "metadata": {},
   "outputs": [
    {
     "data": {
      "text/plain": [
       "(0.0, 10.0)"
      ]
     },
     "execution_count": 18,
     "metadata": {},
     "output_type": "execute_result"
    },
    {
     "data": {
      "image/png": "[encoded data removed]",
      "text/plain": [
       "<Figure size 432x288 with 1 Axes>"
      ]
     },
     "metadata": {
      "needs_background": "light"
     },
     "output_type": "display_data"
    }
   ],
   "source": [
    "plt.xlim([0,10])"
   ]
  },
  {
   "cell_type": "code",
   "execution_count": null,
   "id": "6524b764",
   "metadata": {},
   "outputs": [],
   "source": []
  }
 ],
 "metadata": {
  "kernelspec": {
   "display_name": "Python 3 (ipykernel)",
   "language": "python",
   "name": "python3"
  },
  "language_info": {
   "codemirror_mode": {
    "name": "ipython",
    "version": 3
   },
   "file_extension": ".py",
   "mimetype": "text/x-python",
   "name": "python",
   "nbconvert_exporter": "python",
   "pygments_lexer": "ipython3",
   "version": "3.9.7"
  }
 },
 "nbformat": 4,
 "nbformat_minor": 5
}
